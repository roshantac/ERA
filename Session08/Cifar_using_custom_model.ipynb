{
  "cells": [
    {
      "cell_type": "markdown",
      "metadata": {
        "id": "view-in-github",
        "colab_type": "text"
      },
      "source": [
        "<a href=\"https://colab.research.google.com/github/roshantac/ERA/blob/main/Session08/Cifar_using_custom_model.ipynb\" target=\"_parent\"><img src=\"https://colab.research.google.com/assets/colab-badge.svg\" alt=\"Open In Colab\"/></a>"
      ]
    },
    {
      "cell_type": "code",
      "source": [
        "!nvidia-smi"
      ],
      "metadata": {
        "colab": {
          "base_uri": "https://localhost:8080/"
        },
        "id": "v_IwnEHpjUVl",
        "outputId": "221a153f-4ab7-4f5f-c988-d907d85fcfab"
      },
      "execution_count": 1,
      "outputs": [
        {
          "output_type": "stream",
          "name": "stdout",
          "text": [
            "Fri Jun 23 05:51:22 2023       \n",
            "+-----------------------------------------------------------------------------+\n",
            "| NVIDIA-SMI 525.85.12    Driver Version: 525.85.12    CUDA Version: 12.0     |\n",
            "|-------------------------------+----------------------+----------------------+\n",
            "| GPU  Name        Persistence-M| Bus-Id        Disp.A | Volatile Uncorr. ECC |\n",
            "| Fan  Temp  Perf  Pwr:Usage/Cap|         Memory-Usage | GPU-Util  Compute M. |\n",
            "|                               |                      |               MIG M. |\n",
            "|===============================+======================+======================|\n",
            "|   0  Tesla T4            Off  | 00000000:00:04.0 Off |                    0 |\n",
            "| N/A   58C    P8    10W /  70W |      0MiB / 15360MiB |      0%      Default |\n",
            "|                               |                      |                  N/A |\n",
            "+-------------------------------+----------------------+----------------------+\n",
            "                                                                               \n",
            "+-----------------------------------------------------------------------------+\n",
            "| Processes:                                                                  |\n",
            "|  GPU   GI   CI        PID   Type   Process name                  GPU Memory |\n",
            "|        ID   ID                                                   Usage      |\n",
            "|=============================================================================|\n",
            "|  No running processes found                                                 |\n",
            "+-----------------------------------------------------------------------------+\n"
          ]
        }
      ]
    },
    {
      "cell_type": "code",
      "execution_count": 2,
      "metadata": {
        "colab": {
          "base_uri": "https://localhost:8080/"
        },
        "id": "QVbdg0z4poCc",
        "outputId": "416d7706-d40b-48b8-8190-928a9509c721"
      },
      "outputs": [
        {
          "output_type": "stream",
          "name": "stdout",
          "text": [
            "Looking in indexes: https://pypi.org/simple, https://us-python.pkg.dev/colab-wheels/public/simple/\n",
            "Requirement already satisfied: torchsummary in /usr/local/lib/python3.10/dist-packages (1.5.1)\n"
          ]
        }
      ],
      "source": [
        "%matplotlib inline\n",
        "!pip install torchsummary"
      ]
    },
    {
      "cell_type": "code",
      "execution_count": 3,
      "metadata": {
        "id": "-yVpodAMpoCi"
      },
      "outputs": [],
      "source": [
        "import torch\n",
        "import torchvision\n",
        "import torchvision.transforms as transforms"
      ]
    },
    {
      "cell_type": "code",
      "source": [
        "!ls"
      ],
      "metadata": {
        "colab": {
          "base_uri": "https://localhost:8080/"
        },
        "id": "tpASKbUyjecc",
        "outputId": "ba487e09-a8f2-4ede-fd8a-28ae3bb5f102"
      },
      "execution_count": 4,
      "outputs": [
        {
          "output_type": "stream",
          "name": "stdout",
          "text": [
            "base_functions.py  dataset.py  model.py     sample_data  utils.py\n",
            "data\t\t   main.py     __pycache__  training.py\n"
          ]
        }
      ]
    },
    {
      "cell_type": "markdown",
      "metadata": {
        "id": "5kjt4e2TpoCk"
      },
      "source": [
        "Import DataSet\n",
        "# New Section"
      ]
    },
    {
      "cell_type": "code",
      "execution_count": 5,
      "metadata": {
        "colab": {
          "base_uri": "https://localhost:8080/"
        },
        "id": "rKxc-3UY3KDH",
        "outputId": "d8f0595f-413e-41dc-b256-97fba5641d2b"
      },
      "outputs": [
        {
          "output_type": "stream",
          "name": "stdout",
          "text": [
            "Files already downloaded and verified\n",
            "Files already downloaded and verified\n"
          ]
        }
      ],
      "source": [
        "from dataset import *\n",
        "trainloader, testloader, classes = getData()"
      ]
    },
    {
      "cell_type": "markdown",
      "metadata": {
        "id": "mmfS0ZaISa0L"
      },
      "source": [
        "# Define your model Here"
      ]
    },
    {
      "cell_type": "code",
      "execution_count": 6,
      "metadata": {
        "id": "wxpymqy1P_DX"
      },
      "outputs": [],
      "source": [
        "import torch.nn as nn\n",
        "import torch.nn.functional as F\n",
        "from base_functions import *\n",
        "class Net(nn.Module):\n",
        "    def __init__(self):\n",
        "        super(Net, self).__init__()\n",
        "        self.C1 = Conv2d_BN(3,22,dropout=0.1, padding=1)     # 32    C1\n",
        "        self.C2 = Conv2d_BN(22,32,dropout=0.1, padding=1)    # 32 #. C2\n",
        "        self.c_3= Conv1x1(32,22)\n",
        "        self.P1 = Maxpooling(2)\n",
        "        self.C3 = Conv2d_BN(22,32,dropout=0.1, padding=1)  #16 #. C3\n",
        "        self.C4 = Conv2d_BN(32,22,dropout=0.1, padding=1)   # 16 #  C4\n",
        "        self.C5 = Conv2d_BN(22,42,dropout=0.1, padding=1)#16#. C5\n",
        "        self.c_6= Conv1x1(42,32)                           #  C6\n",
        "        self.P2 = Maxpooling(2)\n",
        "        self.C7 = Conv2d_BN(32,22, dropout=0.1, padding=1) # 8.#. C7\n",
        "        self.C8 = Conv2d_BN(22,32, dropout=0.1, padding=1) # 8  #  C8\n",
        "        self.C9 = Conv2d_BN(32,22, padding=1) #. C9\n",
        "        self.gap= gap(8)\n",
        "        self.FC = Conv1x1(22,10)\n",
        "\n",
        "\n",
        "    def forward(self,x):\n",
        "      #32\n",
        "      x = self.C1(x)\n",
        "      x = self.C2(x)\n",
        "      x = self.c_3(x)\n",
        "      x = self.P1(x)\n",
        "      #16\n",
        "      s = self.C3(x)\n",
        "      x = self.C4(s)\n",
        "      x = self.C5(x)\n",
        "      x = self.c_6(x) + s\n",
        "      s2 = self.P2(x)\n",
        "      #8\n",
        "      s = self.C7(s2)\n",
        "      x = self.C8(s) + s2\n",
        "      x = self.C9(x) + s\n",
        "      #gap\n",
        "      x = self.gap(x)\n",
        "      x = self.FC(x)\n",
        "      x=x.view(-1,10)\n",
        "      return F.log_softmax(x, dim= -1)\n",
        "\n"
      ]
    },
    {
      "cell_type": "markdown",
      "metadata": {
        "id": "7o5BHWfCSO5h"
      },
      "source": [
        "# Summary"
      ]
    },
    {
      "cell_type": "code",
      "execution_count": 7,
      "metadata": {
        "colab": {
          "base_uri": "https://localhost:8080/"
        },
        "id": "VFGu4mJeCNg0",
        "outputId": "9910affb-c749-456d-f219-82a4d97a6819"
      },
      "outputs": [
        {
          "output_type": "stream",
          "name": "stdout",
          "text": [
            "cuda\n",
            "----------------------------------------------------------------\n",
            "        Layer (type)               Output Shape         Param #\n",
            "================================================================\n",
            "            Conv2d-1           [-1, 22, 32, 32]             594\n",
            "              ReLU-2           [-1, 22, 32, 32]               0\n",
            "       BatchNorm2d-3           [-1, 22, 32, 32]              44\n",
            "           Dropout-4           [-1, 22, 32, 32]               0\n",
            "            Conv2d-5           [-1, 32, 32, 32]           6,336\n",
            "              ReLU-6           [-1, 32, 32, 32]               0\n",
            "       BatchNorm2d-7           [-1, 32, 32, 32]              64\n",
            "           Dropout-8           [-1, 32, 32, 32]               0\n",
            "            Conv2d-9           [-1, 22, 32, 32]             704\n",
            "        MaxPool2d-10           [-1, 22, 16, 16]               0\n",
            "           Conv2d-11           [-1, 32, 16, 16]           6,336\n",
            "             ReLU-12           [-1, 32, 16, 16]               0\n",
            "      BatchNorm2d-13           [-1, 32, 16, 16]              64\n",
            "          Dropout-14           [-1, 32, 16, 16]               0\n",
            "           Conv2d-15           [-1, 22, 16, 16]           6,336\n",
            "             ReLU-16           [-1, 22, 16, 16]               0\n",
            "      BatchNorm2d-17           [-1, 22, 16, 16]              44\n",
            "          Dropout-18           [-1, 22, 16, 16]               0\n",
            "           Conv2d-19           [-1, 42, 16, 16]           8,316\n",
            "             ReLU-20           [-1, 42, 16, 16]               0\n",
            "      BatchNorm2d-21           [-1, 42, 16, 16]              84\n",
            "          Dropout-22           [-1, 42, 16, 16]               0\n",
            "           Conv2d-23           [-1, 32, 16, 16]           1,344\n",
            "        MaxPool2d-24             [-1, 32, 8, 8]               0\n",
            "           Conv2d-25             [-1, 22, 8, 8]           6,336\n",
            "             ReLU-26             [-1, 22, 8, 8]               0\n",
            "      BatchNorm2d-27             [-1, 22, 8, 8]              44\n",
            "          Dropout-28             [-1, 22, 8, 8]               0\n",
            "           Conv2d-29             [-1, 32, 8, 8]           6,336\n",
            "             ReLU-30             [-1, 32, 8, 8]               0\n",
            "      BatchNorm2d-31             [-1, 32, 8, 8]              64\n",
            "          Dropout-32             [-1, 32, 8, 8]               0\n",
            "           Conv2d-33             [-1, 22, 8, 8]           6,336\n",
            "             ReLU-34             [-1, 22, 8, 8]               0\n",
            "      BatchNorm2d-35             [-1, 22, 8, 8]              44\n",
            "          Dropout-36             [-1, 22, 8, 8]               0\n",
            "        AvgPool2d-37             [-1, 22, 1, 1]               0\n",
            "           Conv2d-38             [-1, 10, 1, 1]             220\n",
            "================================================================\n",
            "Total params: 49,646\n",
            "Trainable params: 49,646\n",
            "Non-trainable params: 0\n",
            "----------------------------------------------------------------\n",
            "Input size (MB): 0.01\n",
            "Forward/backward pass size (MB): 2.88\n",
            "Params size (MB): 0.19\n",
            "Estimated Total Size (MB): 3.08\n",
            "----------------------------------------------------------------\n"
          ]
        }
      ],
      "source": [
        "\n",
        "from torchsummary import summary\n",
        "use_cuda = torch.cuda.is_available()\n",
        "device = torch.device(\"cuda\" if use_cuda else \"cpu\")\n",
        "print(device)\n",
        "model = Net().to(device)\n",
        "summary(model, input_size=(3, 32, 32))"
      ]
    },
    {
      "cell_type": "markdown",
      "metadata": {
        "id": "Y95e6cgCSJYr"
      },
      "source": [
        "# Training"
      ]
    },
    {
      "cell_type": "code",
      "execution_count": 8,
      "metadata": {
        "colab": {
          "base_uri": "https://localhost:8080/"
        },
        "id": "9D5wQmTxC_iV",
        "outputId": "736bc9f3-157a-41e0-bc18-76d9b973b23c"
      },
      "outputs": [
        {
          "output_type": "stream",
          "name": "stdout",
          "text": [
            "EPOCH: 0\n"
          ]
        },
        {
          "output_type": "stream",
          "name": "stderr",
          "text": [
            "Loss=1.8141448497772217 Batch_id=390 Accuracy=25.93: 100%|██████████| 391/391 [00:51<00:00,  7.62it/s]\n"
          ]
        },
        {
          "output_type": "stream",
          "name": "stdout",
          "text": [
            "\n",
            "Test set: Average loss: 2.0513, Accuracy: 2488/10000 (24.88%)\n",
            "\n",
            "EPOCH: 1\n"
          ]
        },
        {
          "output_type": "stream",
          "name": "stderr",
          "text": [
            "Loss=1.5728487968444824 Batch_id=390 Accuracy=38.57: 100%|██████████| 391/391 [00:48<00:00,  8.09it/s]\n"
          ]
        },
        {
          "output_type": "stream",
          "name": "stdout",
          "text": [
            "\n",
            "Test set: Average loss: 1.7705, Accuracy: 3367/10000 (33.67%)\n",
            "\n",
            "EPOCH: 2\n"
          ]
        },
        {
          "output_type": "stream",
          "name": "stderr",
          "text": [
            "Loss=1.204658031463623 Batch_id=390 Accuracy=47.91: 100%|██████████| 391/391 [00:47<00:00,  8.15it/s]\n"
          ]
        },
        {
          "output_type": "stream",
          "name": "stdout",
          "text": [
            "\n",
            "Test set: Average loss: 1.3422, Accuracy: 5252/10000 (52.52%)\n",
            "\n",
            "EPOCH: 3\n"
          ]
        },
        {
          "output_type": "stream",
          "name": "stderr",
          "text": [
            "Loss=1.185189962387085 Batch_id=390 Accuracy=55.00: 100%|██████████| 391/391 [00:49<00:00,  7.95it/s]\n"
          ]
        },
        {
          "output_type": "stream",
          "name": "stdout",
          "text": [
            "\n",
            "Test set: Average loss: 1.3036, Accuracy: 5443/10000 (54.43%)\n",
            "\n",
            "EPOCH: 4\n"
          ]
        },
        {
          "output_type": "stream",
          "name": "stderr",
          "text": [
            "Loss=1.0348085165023804 Batch_id=390 Accuracy=59.03: 100%|██████████| 391/391 [00:48<00:00,  8.06it/s]\n"
          ]
        },
        {
          "output_type": "stream",
          "name": "stdout",
          "text": [
            "\n",
            "Test set: Average loss: 1.1341, Accuracy: 6034/10000 (60.34%)\n",
            "\n",
            "EPOCH: 5\n"
          ]
        },
        {
          "output_type": "stream",
          "name": "stderr",
          "text": [
            "Loss=0.9961369633674622 Batch_id=390 Accuracy=61.98: 100%|██████████| 391/391 [00:48<00:00,  8.05it/s]\n"
          ]
        },
        {
          "output_type": "stream",
          "name": "stdout",
          "text": [
            "\n",
            "Test set: Average loss: 1.1280, Accuracy: 6088/10000 (60.88%)\n",
            "\n",
            "EPOCH: 6\n"
          ]
        },
        {
          "output_type": "stream",
          "name": "stderr",
          "text": [
            "Loss=0.837868332862854 Batch_id=390 Accuracy=64.06: 100%|██████████| 391/391 [00:48<00:00,  8.07it/s]\n"
          ]
        },
        {
          "output_type": "stream",
          "name": "stdout",
          "text": [
            "\n",
            "Test set: Average loss: 1.0022, Accuracy: 6488/10000 (64.88%)\n",
            "\n",
            "EPOCH: 7\n"
          ]
        },
        {
          "output_type": "stream",
          "name": "stderr",
          "text": [
            "Loss=0.9377650022506714 Batch_id=390 Accuracy=65.88: 100%|██████████| 391/391 [00:48<00:00,  8.09it/s]\n"
          ]
        },
        {
          "output_type": "stream",
          "name": "stdout",
          "text": [
            "\n",
            "Test set: Average loss: 0.9115, Accuracy: 6804/10000 (68.04%)\n",
            "\n",
            "EPOCH: 8\n"
          ]
        },
        {
          "output_type": "stream",
          "name": "stderr",
          "text": [
            "Loss=0.8901845216751099 Batch_id=390 Accuracy=67.51: 100%|██████████| 391/391 [00:48<00:00,  8.05it/s]\n"
          ]
        },
        {
          "output_type": "stream",
          "name": "stdout",
          "text": [
            "\n",
            "Test set: Average loss: 0.8614, Accuracy: 6989/10000 (69.89%)\n",
            "\n",
            "EPOCH: 9\n"
          ]
        },
        {
          "output_type": "stream",
          "name": "stderr",
          "text": [
            "Loss=1.0187947750091553 Batch_id=390 Accuracy=69.00: 100%|██████████| 391/391 [00:49<00:00,  7.88it/s]\n"
          ]
        },
        {
          "output_type": "stream",
          "name": "stdout",
          "text": [
            "\n",
            "Test set: Average loss: 0.8999, Accuracy: 6866/10000 (68.66%)\n",
            "\n",
            "EPOCH: 10\n"
          ]
        },
        {
          "output_type": "stream",
          "name": "stderr",
          "text": [
            "Loss=0.8829761743545532 Batch_id=390 Accuracy=70.05: 100%|██████████| 391/391 [00:47<00:00,  8.15it/s]\n"
          ]
        },
        {
          "output_type": "stream",
          "name": "stdout",
          "text": [
            "\n",
            "Test set: Average loss: 0.8583, Accuracy: 7040/10000 (70.40%)\n",
            "\n",
            "EPOCH: 11\n"
          ]
        },
        {
          "output_type": "stream",
          "name": "stderr",
          "text": [
            "Loss=1.0719250440597534 Batch_id=390 Accuracy=70.88: 100%|██████████| 391/391 [00:48<00:00,  8.03it/s]\n"
          ]
        },
        {
          "output_type": "stream",
          "name": "stdout",
          "text": [
            "\n",
            "Test set: Average loss: 0.7746, Accuracy: 7333/10000 (73.33%)\n",
            "\n",
            "EPOCH: 12\n"
          ]
        },
        {
          "output_type": "stream",
          "name": "stderr",
          "text": [
            "Loss=0.9344813227653503 Batch_id=390 Accuracy=71.50: 100%|██████████| 391/391 [00:48<00:00,  8.05it/s]\n"
          ]
        },
        {
          "output_type": "stream",
          "name": "stdout",
          "text": [
            "\n",
            "Test set: Average loss: 0.7942, Accuracy: 7280/10000 (72.80%)\n",
            "\n",
            "EPOCH: 13\n"
          ]
        },
        {
          "output_type": "stream",
          "name": "stderr",
          "text": [
            "Loss=0.6268295645713806 Batch_id=390 Accuracy=72.41: 100%|██████████| 391/391 [00:49<00:00,  7.88it/s]\n"
          ]
        },
        {
          "output_type": "stream",
          "name": "stdout",
          "text": [
            "\n",
            "Test set: Average loss: 0.7292, Accuracy: 7511/10000 (75.11%)\n",
            "\n",
            "EPOCH: 14\n"
          ]
        },
        {
          "output_type": "stream",
          "name": "stderr",
          "text": [
            "Loss=0.7430866360664368 Batch_id=390 Accuracy=73.37: 100%|██████████| 391/391 [00:48<00:00,  8.07it/s]\n"
          ]
        },
        {
          "output_type": "stream",
          "name": "stdout",
          "text": [
            "\n",
            "Test set: Average loss: 0.7470, Accuracy: 7410/10000 (74.10%)\n",
            "\n",
            "EPOCH: 15\n"
          ]
        },
        {
          "output_type": "stream",
          "name": "stderr",
          "text": [
            "Loss=0.7266883254051208 Batch_id=390 Accuracy=73.60: 100%|██████████| 391/391 [00:48<00:00,  8.02it/s]\n"
          ]
        },
        {
          "output_type": "stream",
          "name": "stdout",
          "text": [
            "\n",
            "Test set: Average loss: 0.7216, Accuracy: 7530/10000 (75.30%)\n",
            "\n",
            "EPOCH: 16\n"
          ]
        },
        {
          "output_type": "stream",
          "name": "stderr",
          "text": [
            "Loss=0.7225537896156311 Batch_id=390 Accuracy=74.21: 100%|██████████| 391/391 [00:48<00:00,  8.08it/s]\n"
          ]
        },
        {
          "output_type": "stream",
          "name": "stdout",
          "text": [
            "\n",
            "Test set: Average loss: 0.7073, Accuracy: 7592/10000 (75.92%)\n",
            "\n",
            "EPOCH: 17\n"
          ]
        },
        {
          "output_type": "stream",
          "name": "stderr",
          "text": [
            "Loss=0.6012101769447327 Batch_id=390 Accuracy=74.93: 100%|██████████| 391/391 [00:48<00:00,  8.05it/s]\n"
          ]
        },
        {
          "output_type": "stream",
          "name": "stdout",
          "text": [
            "\n",
            "Test set: Average loss: 0.6997, Accuracy: 7616/10000 (76.16%)\n",
            "\n",
            "EPOCH: 18\n"
          ]
        },
        {
          "output_type": "stream",
          "name": "stderr",
          "text": [
            "Loss=0.7664279341697693 Batch_id=390 Accuracy=75.16: 100%|██████████| 391/391 [00:49<00:00,  7.88it/s]\n"
          ]
        },
        {
          "output_type": "stream",
          "name": "stdout",
          "text": [
            "\n",
            "Test set: Average loss: 0.6799, Accuracy: 7657/10000 (76.57%)\n",
            "\n",
            "EPOCH: 19\n"
          ]
        },
        {
          "output_type": "stream",
          "name": "stderr",
          "text": [
            "Loss=0.7360885143280029 Batch_id=390 Accuracy=75.50: 100%|██████████| 391/391 [00:48<00:00,  8.04it/s]\n"
          ]
        },
        {
          "output_type": "stream",
          "name": "stdout",
          "text": [
            "\n",
            "Test set: Average loss: 0.6851, Accuracy: 7654/10000 (76.54%)\n",
            "\n"
          ]
        }
      ],
      "source": [
        "from training import *\n",
        "#Training(3,model)\n",
        "Training(20,model,device, trainloader, testloader )\n"
      ]
    },
    {
      "cell_type": "markdown",
      "metadata": {
        "id": "O-odOrhdpoC2"
      },
      "source": [
        "# 4. Test Accuracy of each class\n",
        "\n",
        "\n",
        "\n",
        "\n"
      ]
    },
    {
      "cell_type": "code",
      "execution_count": 9,
      "metadata": {
        "colab": {
          "base_uri": "https://localhost:8080/"
        },
        "id": "Hb0q_tCTAMIv",
        "outputId": "a4ac4073-dbdf-4188-b153-e93d0c874320"
      },
      "outputs": [
        {
          "output_type": "stream",
          "name": "stdout",
          "text": [
            "Accuracy of plane : 88 %\n",
            "Accuracy of   car : 100 %\n",
            "Accuracy of  bird : 55 %\n",
            "Accuracy of   cat : 72 %\n",
            "Accuracy of  deer : 69 %\n",
            "Accuracy of   dog : 81 %\n",
            "Accuracy of  frog : 83 %\n",
            "Accuracy of horse : 78 %\n",
            "Accuracy of  ship : 85 %\n",
            "Accuracy of truck : 86 %\n"
          ]
        }
      ],
      "source": [
        "ClassTestAccuracy(testloader,device,model, classes)"
      ]
    }
  ],
  "metadata": {
    "accelerator": "GPU",
    "colab": {
      "name": "S7.ipynb",
      "provenance": [],
      "gpuType": "T4",
      "include_colab_link": true
    },
    "kernelspec": {
      "display_name": "Python 3",
      "name": "python3"
    },
    "language_info": {
      "codemirror_mode": {
        "name": "ipython",
        "version": 3
      },
      "file_extension": ".py",
      "mimetype": "text/x-python",
      "name": "python",
      "nbconvert_exporter": "python",
      "pygments_lexer": "ipython3",
      "version": "3.6.9"
    }
  },
  "nbformat": 4,
  "nbformat_minor": 0
}